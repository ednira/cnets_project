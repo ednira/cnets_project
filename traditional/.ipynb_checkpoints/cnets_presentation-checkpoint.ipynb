{
 "cells": [
  {
   "attachments": {},
   "cell_type": "markdown",
   "id": "b6137852-fd3b-4888-a2ea-a568a0b67896",
   "metadata": {},
   "source": [
    "# <span style=\"color:green\">C-nets</span>"
   ]
  },
  {
   "cell_type": "markdown",
   "id": "b896c04d-882c-402d-a0a0-c73440dc1ac2",
   "metadata": {},
   "source": [
    "##### This document enables to mine a process model in C-nets language based on an event log. "
   ]
  },
  {
   "cell_type": "markdown",
   "id": "a5cf522e-aa63-4111-9154-dc4dcf028af6",
   "metadata": {},
   "source": [
    "C-nets is an expressive language created specifically for project mining that can handle noise and concurrency. It features process elements in a simple and effective manner by using bindings to depict AND-, XOR-, and OR- split and join patterns."
   ]
  },
  {
   "cell_type": "markdown",
   "id": "4c14a2d5-77c5-4ab2-899d-9319aef3ca4c",
   "metadata": {},
   "source": [
    "The requirements to use this module are as follows."
   ]
  },
  {
   "cell_type": "code",
   "execution_count": null,
   "id": "ae38f9c2-db48-4325-95f1-982fafd2fb94",
   "metadata": {
    "jupyter": {
     "source_hidden": true
    }
   },
   "outputs": [],
   "source": [
    "\n",
    "\n",
    "f = !cat \"requirements.txt\"\n",
    "display(f)"
   ]
  },
  {
   "cell_type": "markdown",
   "id": "a1da230b-cb1f-4d7a-a529-1816ba412ced",
   "metadata": {},
   "source": [
    "</br>\n",
    "The log file should be in csv format and contain a flattened event log of a process, which means that all events in the log are related to only one process object identified by their caseID. \n",
    "\n",
    "You can find an example log file [here](./logcnet2.csv). The file contents should follow the schema below and columns should have no headers.\n",
    "\n",
    "SCHEMA\n",
    "\n",
    "caseID; task; user; timestamp \n",
    "\n",
    "</br>\n",
    "</br>\n"
   ]
  },
  {
   "cell_type": "markdown",
   "id": "25b7c84d-c728-40fa-b0f0-175916d4d832",
   "metadata": {},
   "source": [
    "Let us start by importing the modules needed."
   ]
  },
  {
   "cell_type": "code",
   "execution_count": null,
   "id": "537732eb-e18b-4849-9f23-e2f1212c0059",
   "metadata": {
    "jupyter": {
     "source_hidden": true
    }
   },
   "outputs": [],
   "source": [
    "import os\n",
    "from collections import OrderedDict\n",
    "import pandas as pd\n",
    "import numpy as np\n",
    "from collections import namedtuple\n",
    "import pygraphviz as pgv\n",
    "from PIL import Image"
   ]
  },
  {
   "cell_type": "code",
   "execution_count": null,
   "id": "e8f08e76-4a9f-4087-9e93-7f1c0d8902ba",
   "metadata": {
    "jupyter": {
     "source_hidden": true
    }
   },
   "outputs": [],
   "source": [
    "from import_log import *\n",
    "from dep_matrix import *\n",
    "from dep_graph import *\n",
    "from bindings import *\n",
    "from replay import *\n",
    "from depgraph_visualization import *\n",
    "from visualization import *"
   ]
  },
  {
   "cell_type": "markdown",
   "id": "fce44e86-6e5e-4903-9cbe-6678ff84d9ee",
   "metadata": {},
   "source": [
    "#### <span style=\"color:green\">Step 1 - Read log and generate the dependency matrix</span>"
   ]
  },
  {
   "cell_type": "markdown",
   "id": "2446c04f-d332-4122-adaa-30910e3a28de",
   "metadata": {},
   "source": [
    "Substitute the path to your file in the code below. Make sure to have it inside quotation marks \" \".\n",
    "Example:\n",
    "path = \"/Users/your_name/your_folder/logcnet2.csv\""
   ]
  },
  {
   "cell_type": "code",
   "execution_count": null,
   "id": "7e7d334a-2836-43d0-8ac1-b2f82a9dbe02",
   "metadata": {
    "jupyter": {
     "source_hidden": true
    }
   },
   "outputs": [],
   "source": [
    "path = \"logcnet2.csv\"\n",
    "#path = \"long_distance.csv\""
   ]
  },
  {
   "cell_type": "code",
   "execution_count": null,
   "id": "dca6a84f-6f5b-4c5f-b1e6-e2a66831116a",
   "metadata": {
    "jupyter": {
     "source_hidden": true
    }
   },
   "outputs": [],
   "source": [
    "pd.read_csv(\"/Users/ednira/Documents/My_Masters/0_THESIS/event_logs/logcnet2.csv\")\n",
    "#pd.read_csv(\"/Users/ednira/Documents/My_Masters/0_THESIS/event_logs/long_distance.csv\")"
   ]
  },
  {
   "cell_type": "markdown",
   "id": "c65a8ff5-eb07-4ed9-8099-61577b0d91d8",
   "metadata": {},
   "source": [
    "The log is read. So, the activities, frequencies, dependencies, and bindings are mined, based on defined thresholds.\n",
    "\n",
    "The default dependency threshold is **0.90**"
   ]
  },
  {
   "cell_type": "code",
   "execution_count": null,
   "id": "4fde109b-7657-49ad-a7ca-7ecb8bb10d74",
   "metadata": {
    "jupyter": {
     "source_hidden": true
    }
   },
   "outputs": [],
   "source": [
    "\n",
    "log = read_log(path)\n",
    "activities = activity_frequencies(log)\n",
    "\n",
    "act_total = activity_total(log)\n",
    "\n",
    "freq = frequencies(activities)\n",
    "\n",
    "dep = dependency_matrix(freq)\n",
    "\n",
    "dep_dict = dependency_dict(dep)\n",
    "\n",
    "best = best_dependency(dep_dict)\n",
    "\n",
    "alltraces = traces(log)\n",
    "\n",
    "long = long_distance_dependency(act_total, alltraces)\n",
    "\n",
    "depgraph, end, start, or_start, or_end = dependency_graph(act_total,activities,dep_dict, long, dependency_threshold=0.9)\n",
    "\n",
    "pygraph_visualization(depgraph, act_total, activities, dep_dict)\n",
    "\n",
    "in_arcs = input_arcs(depgraph)\n",
    "out_arcs = output_arcs(depgraph)\n",
    "\n",
    "output, cnet_outbindings = output_bindings(alltraces, out_arcs, in_arcs)\n",
    "\n",
    "input, cnet_inbindings = input_bindings(alltraces, out_arcs, in_arcs)\n"
   ]
  },
  {
   "cell_type": "markdown",
   "id": "cf341eec-59e3-4fb6-b2e6-83bfef7c078c",
   "metadata": {},
   "source": [
    "In the event log, these are the activities:"
   ]
  },
  {
   "cell_type": "code",
   "execution_count": null,
   "id": "09f72efb-076e-4d56-8ff7-0aad6bfaf4e8",
   "metadata": {
    "jupyter": {
     "source_hidden": true
    }
   },
   "outputs": [],
   "source": [
    "\n",
    "\n",
    "print(\"Activities: \" + str(list(activities.keys())))"
   ]
  },
  {
   "cell_type": "markdown",
   "id": "8556cef7-41bf-4fcb-bf72-4ab97f9bfc2d",
   "metadata": {},
   "source": [
    "And the traces:"
   ]
  },
  {
   "cell_type": "code",
   "execution_count": null,
   "id": "cc64fa48-a0ba-438e-ae9b-dcf3ff7348a6",
   "metadata": {
    "jupyter": {
     "source_hidden": true
    }
   },
   "outputs": [],
   "source": [
    "\n",
    "\n",
    "print(alltraces)"
   ]
  },
  {
   "cell_type": "markdown",
   "id": "adb8ca1a-f950-40ae-ba16-c3f25767aa1e",
   "metadata": {},
   "source": [
    "The frequency matrix is calculated:"
   ]
  },
  {
   "cell_type": "code",
   "execution_count": null,
   "id": "7b4269b6-ff4f-4277-9ed1-877836a9e892",
   "metadata": {
    "jupyter": {
     "source_hidden": true
    }
   },
   "outputs": [],
   "source": [
    "print(freq)"
   ]
  },
  {
   "attachments": {
    "f9fdbfa1-5ef8-49ff-848f-2b117fae466a.png": {
     "image/png": "[encoded data removed]"
    }
   },
   "cell_type": "markdown",
   "id": "4068984a-23fb-43f0-a2a5-07afa35b82ca",
   "metadata": {},
   "source": [
    "</br>\n",
    "Then, the dependency measure is calculated based on the formula\n",
    "\n",
    "![dependency_formula.png](attachment:f9fdbfa1-5ef8-49ff-848f-2b117fae466a.png)\n",
    "\n",
    "This is the dependency matrix:"
   ]
  },
  {
   "cell_type": "code",
   "execution_count": null,
   "id": "89705935-c658-4a55-8bc7-bb64adf47580",
   "metadata": {
    "jupyter": {
     "source_hidden": true
    }
   },
   "outputs": [],
   "source": [
    "print(dep)"
   ]
  },
  {
   "cell_type": "markdown",
   "id": "4c01c331-8589-4855-bca6-de129656eb47",
   "metadata": {},
   "source": [
    "#### <span style=\"color:green\">Step 2 - C-nets bindings</span>"
   ]
  },
  {
   "cell_type": "markdown",
   "id": "0a149db0-62ef-4a3b-99f4-dce12dc18fe8",
   "metadata": {},
   "source": [
    "Here are the input and output bindings:"
   ]
  },
  {
   "cell_type": "code",
   "execution_count": null,
   "id": "b79fe042-0e5c-4d1a-a4f7-02e8bc8087b8",
   "metadata": {
    "jupyter": {
     "source_hidden": true
    }
   },
   "outputs": [],
   "source": [
    "\n",
    "\n",
    "print('CNETS INPUT BINDINGS')\n",
    "print(cnet_inbindings)\n",
    "print()\n",
    "print('CNETS OUTPUT BINDINGS')\n",
    "print(cnet_outbindings)"
   ]
  },
  {
   "cell_type": "markdown",
   "id": "423e1d74-abad-4469-80ac-23060c83707a",
   "metadata": {},
   "source": [
    "#### <span style=\"color:green\">Step 3 - Visualize the Dependency Graph</span>"
   ]
  },
  {
   "cell_type": "markdown",
   "id": "e8ef524c-8a82-48cb-9cd3-4a4bb43457c8",
   "metadata": {},
   "source": [
    "Visualization of the dependency graph mined from the log:\n",
    "\n"
   ]
  },
  {
   "cell_type": "code",
   "execution_count": null,
   "id": "06c9ff1f-b117-4fc7-9c86-5d98dd47e2c9",
   "metadata": {
    "jupyter": {
     "source_hidden": true
    },
    "scrolled": true
   },
   "outputs": [],
   "source": [
    "\n",
    "\n",
    "img = Image.open(\"graph_cnet_frequencies.png\")\n",
    "display(img)"
   ]
  },
  {
   "cell_type": "markdown",
   "id": "3272a868-668d-49f6-a20c-164f82d3d7d5",
   "metadata": {},
   "source": [
    "#### <span style=\"color:green\">Step 4 - Visualize the C-nets</span>"
   ]
  },
  {
   "cell_type": "markdown",
   "id": "d9b24e9a-c3a4-4ec7-821e-2909a78294d0",
   "metadata": {},
   "source": [
    "Replaying the traces on the dependency graph generates the C-nets:"
   ]
  },
  {
   "cell_type": "code",
   "execution_count": null,
   "id": "89fa1795-7bea-482b-8002-3b79cb016593",
   "metadata": {
    "jupyter": {
     "source_hidden": true
    }
   },
   "outputs": [],
   "source": [
    "\n",
    "\n",
    "visualization(depgraph, act_total, activities, dep_dict, cnet_inbindings, cnet_outbindings)"
   ]
  },
  {
   "cell_type": "code",
   "execution_count": null,
   "id": "dda5e157-5ac6-453b-89aa-8c236f5f9371",
   "metadata": {
    "jupyter": {
     "source_hidden": true
    }
   },
   "outputs": [],
   "source": []
  }
 ],
 "metadata": {
  "kernelspec": {
   "display_name": "Python 3 (ipykernel)",
   "language": "python",
   "name": "python3"
  },
  "language_info": {
   "codemirror_mode": {
    "name": "ipython",
    "version": 3
   },
   "file_extension": ".py",
   "mimetype": "text/x-python",
   "name": "python",
   "nbconvert_exporter": "python",
   "pygments_lexer": "ipython3",
   "version": "3.11.0"
  }
 },
 "nbformat": 4,
 "nbformat_minor": 5
}
