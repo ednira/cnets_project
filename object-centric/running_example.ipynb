{
 "cells": [
  {
   "cell_type": "markdown",
   "id": "f85e729b-2e92-4008-9e97-2bd2e3487756",
   "metadata": {},
   "source": [
    "## Demonstrating Object-centric Causal nets by Merging Different Object Types C-nets with a Running Example"
   ]
  },
  {
   "cell_type": "markdown",
   "id": "7223ce9d-0658-4ce4-9772-ea025b3ebe24",
   "metadata": {},
   "source": [
    "This notebook shows a running example of the discovery and visualization of an Object-centric Casual nets as presented in the paper 'Discovering Minimal Object-Centric Causal-Nets in Process Mining'."
   ]
  },
  {
   "cell_type": "markdown",
   "id": "9766b440-104f-4a51-aaea-6aaa1e2e393b",
   "metadata": {},
   "source": [
    "### Pre-requisites"
   ]
  },
  {
   "cell_type": "markdown",
   "id": "a1034391-24c7-4da3-a02e-4d8a95882efa",
   "metadata": {},
   "source": [
    "Please install the libraries mentioned in the file requirements.txt\n",
    "<br>You can do it by using pip install -r requirements.txt "
   ]
  },
  {
   "cell_type": "code",
   "execution_count": null,
   "id": "25dfa4c7-2572-4784-a540-16374df25dce",
   "metadata": {},
   "outputs": [],
   "source": [
    "import pm4py\n",
    "# import processmining\n",
    "\n",
    "from discover_occnets import *\n",
    "from view_occnets_jupyter import *"
   ]
  },
  {
   "cell_type": "code",
   "execution_count": null,
   "id": "d8172da7-9066-489c-a4e7-a73781eae24b",
   "metadata": {},
   "outputs": [],
   "source": [
    "file_path = './order-management.json'"
   ]
  },
  {
   "cell_type": "code",
   "execution_count": null,
   "id": "9cd9f725-3d83-437a-8632-72c01d343d3d",
   "metadata": {},
   "outputs": [],
   "source": [
    "ocel, ot_activities, event_to_obj, obj_to_obj = import_log(file_path)"
   ]
  },
  {
   "cell_type": "markdown",
   "id": "4168562e-b47e-458a-968e-33b39cf82a1a",
   "metadata": {},
   "source": [
    "### Model Discovery"
   ]
  },
  {
   "cell_type": "markdown",
   "id": "09e31236-5e4b-4e85-8312-f95a76fe195e",
   "metadata": {},
   "source": [
    "The approach introduced in the paper uses the discovery of Causal nets for each object type and then merges them. This running example is based on an order management process found in an OCEL 2.0 event log. First, let us view the process model when including all object types."
   ]
  },
  {
   "cell_type": "code",
   "execution_count": null,
   "id": "d23b763d-b5f0-4343-8ddc-1a7ca177e397",
   "metadata": {},
   "outputs": [],
   "source": [
    "ot_activities, subgraphs = subgraphs_dict(file_path, dependency_threshold=0.99)"
   ]
  },
  {
   "cell_type": "code",
   "execution_count": null,
   "id": "67d79185-1bfa-49ad-b43c-0b34c13b5535",
   "metadata": {},
   "outputs": [],
   "source": [
    "OCCN_model = all_ot_visualization(ot_activities, subgraphs, profile=['orders','items','packages'])"
   ]
  },
  {
   "cell_type": "markdown",
   "id": "f60b7eb8-5e7b-46a4-874f-e1938a6a9db8",
   "metadata": {},
   "source": [
    "Now, we illustrate how Causal nets for an object type are discovered. Here, we choose the object type 'items'. These are the activities related to this object type."
   ]
  },
  {
   "cell_type": "code",
   "execution_count": null,
   "id": "a3cc80d2-52d7-445c-a5bf-4dcd7d31074a",
   "metadata": {},
   "outputs": [],
   "source": [
    "print(ot_activities['items'])"
   ]
  },
  {
   "cell_type": "markdown",
   "id": "2a82e7d2-f3ab-4c0b-9aee-686977a33ce0",
   "metadata": {},
   "source": [
    "First, we flatten and read the log. This allows us to have all activities related to the object type identified by the 'item' object ID and discover their traces, which is the sequence of activities for each object in the log."
   ]
  },
  {
   "cell_type": "code",
   "execution_count": null,
   "id": "e2ba4644-36df-4516-a3c6-6049614b2312",
   "metadata": {},
   "outputs": [],
   "source": [
    "ocel, ot_activities, event_to_obj, obj_to_obj = import_log(file_path)\n",
    "flt = flatten_log(ocel, ot_activities)\n",
    "flt_items = flt['items']\n",
    "logs = read_log(flt)\n",
    "logs_items = logs['items']\n",
    "all_traces = traces(flt)\n",
    "ot_traces = all_traces['items']"
   ]
  },
  {
   "cell_type": "markdown",
   "id": "02219051-d330-4b0d-84c5-fd566399010f",
   "metadata": {},
   "source": [
    "Let us see how the trace for item 'i-880001' looks like."
   ]
  },
  {
   "cell_type": "code",
   "execution_count": null,
   "id": "8f2e04c8-2107-401f-a347-b1169fd1d4f8",
   "metadata": {},
   "outputs": [],
   "source": [
    "print(ot_traces['i-880001'])"
   ]
  },
  {
   "cell_type": "markdown",
   "id": "ef7b6786-5b26-4f76-8be2-5807e918ca58",
   "metadata": {},
   "source": [
    "It shows all activities realized for item 'i-880001' in the order in which they happened, according to activity timestamps in the log. Next, we want to count some frequencies. As shown in the model, each activity has its corresponding total count. Also, the frequency one activity is followed by another activity is counted because it allows us to calculate the dependency measure between them. In addition, we discover the start and end activities for the object type 'items'."
   ]
  },
  {
   "cell_type": "code",
   "execution_count": null,
   "id": "ab2746aa-8139-49e1-8871-5cac1b88e6b5",
   "metadata": {},
   "outputs": [],
   "source": [
    "act_total = activity_total(logs_items)\n",
    "activities = activity_frequencies(logs_items)\n",
    "or_start = original_start(act_total, activities)\n",
    "or_end = original_end(act_total, activities)\n",
    "freq = frequencies(activities)"
   ]
  },
  {
   "cell_type": "markdown",
   "id": "9db1855d-dd0a-4035-a13e-4f9be6437d9d",
   "metadata": {},
   "source": [
    "Let us check how the frequency matrix for object type 'items' looks like."
   ]
  },
  {
   "cell_type": "code",
   "execution_count": null,
   "id": "e6abc1a7-00cc-44d8-9e6d-fa24b8723afa",
   "metadata": {
    "jupyter": {
     "source_hidden": true
    }
   },
   "outputs": [],
   "source": [
    "print()\n",
    "print('FREQUENCY MATRIX')\n",
    "print()\n",
    "print(freq)"
   ]
  },
  {
   "cell_type": "markdown",
   "id": "887dc779-aa71-42e3-9de7-97d295f86dad",
   "metadata": {},
   "source": [
    "Now, we can proceed to calculate the dependencies between activities. If only frequencies were considered, noise in the log could influence it, causing underfitting and admitting more behavior than it should in the model. However, the dependency measures prevent this from happening and are the fundamental variables on which Causal nets rely. We use three formulas to calculate the dependency measures. The first one relates two activities to one another; the second one relates one activity to itself (loops); and the third one relates two non-consecutive activities and helps determine if there is a long-distance causal relation between them. Let us see the dependency matrix for the object type 'items'."
   ]
  },
  {
   "cell_type": "code",
   "execution_count": null,
   "id": "40bfbcd3-4032-491a-adb6-3ec77a75c1ec",
   "metadata": {},
   "outputs": [],
   "source": [
    "dep = dependency_matrix(freq)\n",
    "dep_dict = dependency_dict(dep)\n",
    "long = long_distance_dependency(act_total, ot_traces, or_start, or_end)\n",
    "print()\n",
    "print('DEPENDENCY MATRIX')\n",
    "print()\n",
    "print(dep)"
   ]
  },
  {
   "cell_type": "markdown",
   "id": "e6228aef-8eb7-49f0-9229-1614ef63b6c4",
   "metadata": {},
   "source": [
    "We consider a dependency measure of 0.95 or higher to build the dependency graph that serves as basis for the model. The dependency graph is composed of nodes and edges, where the nodes are the activities, and the edges are the arcs that connect one activity to another, showing the frequency and dependency relationships between them. When building the dependency graph, we need to avoid disconnected activities in the Causal nets model. This is achieved for each object type, but it is not always possible when there is more than one object type in the model because each object type has different start and end activities. To find the predecessor and successor activities of each activity, the dependency measure threshold is considered. This results in activities losing the race and potentially being disconnected in the Causal nets of an object type. To solve this, the next best predecessor is mined."
   ]
  },
  {
   "cell_type": "code",
   "execution_count": null,
   "id": "a0d200e7-7219-40d4-9ee3-fe096f9398c7",
   "metadata": {},
   "outputs": [],
   "source": [
    "depgraph = dependency_graph(act_total, or_start, or_end, freq, dep, dep_dict, long, dependency_threshold=0.95)"
   ]
  },
  {
   "cell_type": "markdown",
   "id": "e56bc93b-92e2-4a61-8e24-a6ce43d73dd3",
   "metadata": {},
   "source": [
    "Next, we use the dependency graph edges to discover the input and output arcs, that is, the predecessor and successor activities of each activity. By replaying the log in the arcs, we find the input and output bindings of each activity. This is the last step we need to take to discover the Causal nets of an object type."
   ]
  },
  {
   "cell_type": "code",
   "execution_count": null,
   "id": "c594c671-8f94-469b-a33f-d93aef48175e",
   "metadata": {},
   "outputs": [],
   "source": [
    "# Generate the arcs based on the edges of the dep_graph\n",
    "in_arcs = input_arcs(depgraph)\n",
    "out_arcs = output_arcs(depgraph)\n",
    "\n",
    "# Find the bindings in the incoming and outgoing arcs of the graph, using replay\n",
    "cnet_outbindings = output_bindings(ot_traces, out_arcs, in_arcs)\n",
    "cnet_inbindings = input_bindings(ot_traces, out_arcs, in_arcs) "
   ]
  },
  {
   "cell_type": "markdown",
   "id": "d0021eb5-0bb9-4f0b-9a05-09bfa61b9be7",
   "metadata": {},
   "source": [
    "Let us discover the Causal nets of the object type 'items'. "
   ]
  },
  {
   "cell_type": "code",
   "execution_count": null,
   "id": "0ef95a11-bf47-47a3-bef8-e1982ee72142",
   "metadata": {},
   "outputs": [],
   "source": [
    "activity_counts, ot_counts, mean_dict, median_dict, min_dict, max_dict = ot_act_stats(event_to_obj)\n",
    "ot_nodes, ot_edges, i_seq, o_seq = ot_graph(depgraph, act_total, act_total, ot_counts, mean_dict, median_dict, min_dict, max_dict, activities, dep_dict, cnet_inbindings, cnet_outbindings, seq_i=1, seq_o=1)\n",
    "ot_subgraphs_dict = {'items': (ot_nodes, ot_edges)}\n",
    "print(ot_subgraphs_dict)"
   ]
  },
  {
   "cell_type": "markdown",
   "id": "c2206b1e-a8c1-43f4-8a82-849945fe0ac8",
   "metadata": {},
   "source": [
    "However, this tabular representation is not ideal. So, in the next section, we will graphically visualize the complete model for selected object types."
   ]
  },
  {
   "cell_type": "markdown",
   "id": "ced69193-2ce6-4069-ac99-2db3480b9800",
   "metadata": {},
   "source": [
    "### Object-centric Model Visualization"
   ]
  },
  {
   "cell_type": "markdown",
   "id": "89d9165b-a606-4490-b358-d0fbcb406380",
   "metadata": {},
   "source": [
    "We start by visualizing the 'items' object type Causal nets discovered in the previous section."
   ]
  },
  {
   "cell_type": "code",
   "execution_count": null,
   "id": "8e58c6ca-e10d-40bf-82b4-38d0f3936176",
   "metadata": {},
   "outputs": [],
   "source": [
    "profile=['items']\n",
    "cnets_items = all_ot_visualization(ot_activities, subgraphs, profile=profile)\n"
   ]
  },
  {
   "cell_type": "markdown",
   "id": "729bdf09-1ba0-49fb-9160-f9ac1b6f333e",
   "metadata": {},
   "source": [
    "However, in object-centric process mining, we are interested in the relationships between different object types. If all object types are included, the model can become cluttered and hinder the analysis. Thus, some object types are chosen, and their Causal nets are discovered and then merged to be presented in the model. The object types and respective activities for the current process are presented here."
   ]
  },
  {
   "cell_type": "code",
   "execution_count": null,
   "id": "239abd51-3c59-41fb-b17d-9e847940f822",
   "metadata": {},
   "outputs": [],
   "source": [
    "for k,v in ot_activities.items():\n",
    "    print(f\"OT '{k}': activities {v}\")  \n",
    "print()"
   ]
  },
  {
   "cell_type": "markdown",
   "id": "28a68d2a-9ce1-4dac-b370-98c19a5d3967",
   "metadata": {},
   "source": [
    "To generate the object-centric model, we can define a profile, which is the list of object types we select to include in the visualization. If not defined, the model will include all object types encountered in the OCEL file. In our case, the profile is ['items', 'packages']. Note that activities {'package delivered', 'send package', 'create package', 'failed delivery'} are common to both object types. This would result in more than one edge connecting two activities, one for each object type. To solve this, edges are merged to be represented in the model, and the frequency and dependency measures of one activity followed by another are shown in different colors assigned to each object type, for clarity. This is done only for single bindings, as explained in the paper. Next, the nodes of merged edges are removed from the graph in the algorithm. The final step is to generate the model and the legend for visualization. In our case, the chosen profile generates the following model."
   ]
  },
  {
   "cell_type": "code",
   "execution_count": null,
   "id": "5ee8ce04-15b9-42d3-89f6-28dbb1f23663",
   "metadata": {},
   "outputs": [],
   "source": [
    "profile = ['items', 'packages']"
   ]
  },
  {
   "cell_type": "code",
   "execution_count": null,
   "id": "5ca7beed-5fdc-4f45-892d-45f701db2e63",
   "metadata": {},
   "outputs": [],
   "source": [
    "OCCN_model = all_ot_visualization(ot_activities, subgraphs, profile=profile)"
   ]
  },
  {
   "attachments": {},
   "cell_type": "markdown",
   "id": "dc5a6e75-114a-4f95-9cba-3d512957a176",
   "metadata": {},
   "source": []
  }
 ],
 "metadata": {
  "kernelspec": {
   "display_name": "Python 3 (ipykernel)",
   "language": "python",
   "name": "python3"
  },
  "language_info": {
   "codemirror_mode": {
    "name": "ipython",
    "version": 3
   },
   "file_extension": ".py",
   "mimetype": "text/x-python",
   "name": "python",
   "nbconvert_exporter": "python",
   "pygments_lexer": "ipython3",
   "version": "3.11.0"
  }
 },
 "nbformat": 4,
 "nbformat_minor": 5
}
