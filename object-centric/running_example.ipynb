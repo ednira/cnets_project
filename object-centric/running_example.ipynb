{
 "cells": [
  {
   "cell_type": "markdown",
   "id": "f85e729b-2e92-4008-9e97-2bd2e3487756",
   "metadata": {},
   "source": [
    "## Running Example"
   ]
  },
  {
   "cell_type": "markdown",
   "id": "20502511-c90c-479c-8684-cd458f3def1d",
   "metadata": {},
   "source": [
    "### Prerequisite"
   ]
  },
  {
   "cell_type": "markdown",
   "id": "a1034391-24c7-4da3-a02e-4d8a95882efa",
   "metadata": {},
   "source": [
    "Please install the libraries mentioned in the file requirements.txt\n",
    "You can do it by using pip install -r requirements.txt "
   ]
  },
  {
   "cell_type": "code",
   "execution_count": null,
   "id": "25dfa4c7-2572-4784-a540-16374df25dce",
   "metadata": {},
   "outputs": [],
   "source": [
    "import pm4py\n",
    "import processmining\n",
    "\n",
    "import discover_occnets.py as occn_discover\n",
    "import view_occnets.py as occn_vis"
   ]
  },
  {
   "cell_type": "code",
   "execution_count": null,
   "id": "d8172da7-9066-489c-a4e7-a73781eae24b",
   "metadata": {},
   "outputs": [],
   "source": [
    "file_path = './runningExample.jsonocel'"
   ]
  },
  {
   "cell_type": "markdown",
   "id": "ca4562bd-2101-4ccd-849c-83780d3e6df0",
   "metadata": {},
   "source": [
    "First, let us see how the process model looks like when including all object types."
   ]
  },
  {
   "cell_type": "code",
   "execution_count": null,
   "id": "67d79185-1bfa-49ad-b43c-0b34c13b5535",
   "metadata": {},
   "outputs": [],
   "source": [
    "ot_activities, ot_seq, subgraphs = subgraphs_dict(file_path)\n",
    "OCCN_model = all_ot_visualization(ot_activities, ot_seq, subgraphs)"
   ]
  },
  {
   "cell_type": "markdown",
   "id": "06fbbfa6-90b5-4874-b092-6b2106f0ebb9",
   "metadata": {},
   "source": [
    "To visualize the model, we can define a profile. If not defined the model will include all object types in the OCEL file. The profile is a list of the object types that we want to include in the model visualization. To do so, let us first check which object types are present in the business process contained in the log."
   ]
  },
  {
   "cell_type": "code",
   "execution_count": null,
   "id": "a4d50c93-ef40-4142-9500-977b87d3b560",
   "metadata": {},
   "outputs": [],
   "source": [
    "print(ot_activities)"
   ]
  },
  {
   "cell_type": "markdown",
   "id": "cf553de0-eed8-4622-bc29-bc71b074798c",
   "metadata": {},
   "source": [
    "Now, we can select which object types should be included in the model. Let us say that we want to have customers, orders, items, and packages in the model."
   ]
  },
  {
   "cell_type": "code",
   "execution_count": null,
   "id": "4fd8a2b1-ed71-4e3b-98ce-c49225cc3b18",
   "metadata": {},
   "outputs": [],
   "source": [
    "profile = ['customers', 'orders', 'items', 'packages']"
   ]
  },
  {
   "cell_type": "code",
   "execution_count": null,
   "id": "38343fa7-6a2c-4625-a7d8-6e24245efb5d",
   "metadata": {},
   "outputs": [],
   "source": [
    "OCCN_model = all_ot_visualization(ot_activities, ot_seq, subgraphs, profile=profile)"
   ]
  },
  {
   "cell_type": "markdown",
   "id": "51529a6f-e1f7-40de-b12c-1063a6a79a4c",
   "metadata": {},
   "source": [
    "In the model, some edges have the frequency of one activity followed by another in different colors. Each object type is assigned a color. When the dependency between two activities is found in different object types, it is represented by their different colors, for clarity."
   ]
  },
  {
   "cell_type": "code",
   "execution_count": null,
   "id": "d0efcace-0fcb-439d-8b98-1e92d8e63d15",
   "metadata": {},
   "outputs": [],
   "source": []
  },
  {
   "cell_type": "markdown",
   "id": "7b283dd2-8533-4b9b-ab8f-f07bca70590b",
   "metadata": {},
   "source": [
    "When one activity follows the other for different object types, it is necessary to merge the edges without losing the frequency information of the dependency. This is done only for single bindings, not for compound bindings."
   ]
  },
  {
   "cell_type": "code",
   "execution_count": null,
   "id": "08930602-da44-458d-b7e9-a946940dc778",
   "metadata": {},
   "outputs": [],
   "source": []
  },
  {
   "cell_type": "markdown",
   "id": "19c19af6-dd13-47cb-9fcb-e5480161d354",
   "metadata": {},
   "source": [
    "After filtering activities and edges that meet this requirement, the edges are joined."
   ]
  },
  {
   "cell_type": "code",
   "execution_count": null,
   "id": "30ea7939-208c-4880-b6f4-d7a0f0db1b88",
   "metadata": {},
   "outputs": [],
   "source": []
  },
  {
   "cell_type": "markdown",
   "id": "bd3b2efa-0526-400e-b230-3d4f526a59d3",
   "metadata": {},
   "source": [
    "Then, the corresponding labels are merged, keeping the original color of the object type it refers to."
   ]
  },
  {
   "cell_type": "code",
   "execution_count": null,
   "id": "1187ae88-3c2d-4d36-98e2-c8ea530f6858",
   "metadata": {},
   "outputs": [],
   "source": []
  },
  {
   "cell_type": "markdown",
   "id": "b8cac6ba-4012-4e81-946d-acb5032774ad",
   "metadata": {},
   "source": [
    "Next, the nodes of merged edges are removed from the graph."
   ]
  },
  {
   "cell_type": "code",
   "execution_count": null,
   "id": "3a045a1f-f49a-4ab4-8753-b942430b2c09",
   "metadata": {},
   "outputs": [],
   "source": []
  },
  {
   "cell_type": "markdown",
   "id": "176f3dfc-b7b9-4056-88cb-7b1120a90d08",
   "metadata": {},
   "source": [
    "The final step is to generate the graph and create the legend."
   ]
  },
  {
   "cell_type": "code",
   "execution_count": null,
   "id": "b1b3d28d-4a62-4ef7-807a-82b7dc6d08fd",
   "metadata": {},
   "outputs": [],
   "source": []
  },
  {
   "cell_type": "code",
   "execution_count": null,
   "id": "4031a63c-b757-49d3-a28b-68283a2b5ccc",
   "metadata": {},
   "outputs": [],
   "source": []
  },
  {
   "cell_type": "code",
   "execution_count": null,
   "id": "870d776d-da86-44de-a84c-e7e6dbefc6a2",
   "metadata": {},
   "outputs": [],
   "source": []
  }
 ],
 "metadata": {
  "kernelspec": {
   "display_name": "Python 3 (ipykernel)",
   "language": "python",
   "name": "python3"
  },
  "language_info": {
   "codemirror_mode": {
    "name": "ipython",
    "version": 3
   },
   "file_extension": ".py",
   "mimetype": "text/x-python",
   "name": "python",
   "nbconvert_exporter": "python",
   "pygments_lexer": "ipython3",
   "version": "3.11.0"
  }
 },
 "nbformat": 4,
 "nbformat_minor": 5
}
